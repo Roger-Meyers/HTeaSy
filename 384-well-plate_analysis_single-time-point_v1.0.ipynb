{
 "cells": [
  {
   "cell_type": "code",
   "execution_count": 3,
   "id": "b1b5bf4f",
   "metadata": {},
   "outputs": [],
   "source": [
    "import pandas as pd\n",
    "import numpy as np\n",
    "import matplotlib.pyplot as plt\n",
    "import seaborn as sns"
   ]
  },
  {
   "cell_type": "code",
   "execution_count": 4,
   "id": "a7d2929a",
   "metadata": {
    "scrolled": false
   },
   "outputs": [],
   "source": [
    "# load metadata file: for this code, the metadata and the data file must be in a 2-column format: well|condition and well|OD, respectively\n",
    "metadata = pd.read_csv('metadata_table.csv')\n",
    "# load data file\n",
    "data = pd.read_csv('data_table.csv')\n",
    "# merge data and metadata\n",
    "merged_data = pd.merge(data, metadata, on = 'well')\n"
   ]
  },
  {
   "cell_type": "code",
   "execution_count": 5,
   "id": "876c9453",
   "metadata": {},
   "outputs": [
    {
     "name": "stdout",
     "output_type": "stream",
     "text": [
      "    well     OD\n",
      "0     A1  0.988\n",
      "1     A2  0.985\n",
      "2     A3  0.902\n",
      "3     A4  0.956\n",
      "4     A5  0.968\n",
      "..   ...    ...\n",
      "379  P20  0.157\n",
      "380  P21  0.232\n",
      "381  P22  0.194\n",
      "382  P23  0.138\n",
      "383  P24  0.152\n",
      "\n",
      "[384 rows x 2 columns]\n"
     ]
    }
   ],
   "source": [
    "print(data)"
   ]
  },
  {
   "cell_type": "code",
   "execution_count": 6,
   "id": "4f8e309b",
   "metadata": {},
   "outputs": [
    {
     "name": "stdout",
     "output_type": "stream",
     "text": [
      "        OD condition\n",
      "0    0.988      DMSO\n",
      "252  0.449      DMSO\n",
      "200  0.955      DMSO\n",
      "201  0.984      DMSO\n",
      "202  0.940      DMSO\n",
      "..     ...       ...\n",
      "222  0.135     Cipro\n",
      "223  0.125     Cipro\n",
      "224  0.129     Cipro\n",
      "225  0.133     Cipro\n",
      "383  0.152     Cipro\n",
      "\n",
      "[384 rows x 2 columns]\n"
     ]
    }
   ],
   "source": [
    "# remove well column\n",
    "merged_data = merged_data.drop(\"well\", axis=1)\n",
    "merged_data = merged_data.sort_values(by='condition', ascending=False)\n",
    "print(merged_data)"
   ]
  },
  {
   "cell_type": "code",
   "execution_count": 7,
   "id": "2914907a",
   "metadata": {},
   "outputs": [
    {
     "name": "stdout",
     "output_type": "stream",
     "text": [
      "  condition   mean_OD    std_OD\n",
      "0     Cipro  0.160781  0.050942\n",
      "1      DMSO  0.707333  0.210812\n"
     ]
    }
   ],
   "source": [
    "# Group the merged_data DataFrame by 'Condition' and calculate both mean and standard deviation\n",
    "# the .agg function calculates both mean and standard deviation\n",
    "grouped_data = merged_data.groupby('condition').agg({'OD': ['mean', 'std']})\n",
    "\n",
    "# Reset the index to make 'Condition' a column instead of an index\n",
    "grouped_data.reset_index(inplace=True)\n",
    "\n",
    "# Rename the columns for clarity\n",
    "grouped_data.columns = ['condition', 'mean_OD', 'std_OD']\n",
    "\n",
    "# Print the resulting DataFrame\n",
    "print(grouped_data)"
   ]
  },
  {
   "cell_type": "code",
   "execution_count": 8,
   "id": "7b9c69a2",
   "metadata": {},
   "outputs": [
    {
     "name": "stdout",
     "output_type": "stream",
     "text": [
      "-0.4367602435943141\n"
     ]
    }
   ],
   "source": [
    "# now calculate a z-score\n",
    "# the .loc function extracts the value from the table at the crossing point of the descriptors\n",
    "# the .iloc function lets you do the same, but based on integer row and column positions (e.g. 0, 3)\n",
    "# df.iloc[row_position, column_position], keep in mind that the df is zero-indexed\n",
    "mean_pos = grouped_data.iloc[1, 1]\n",
    "mean_neg = grouped_data.iloc[0, 1]\n",
    "std_pos = grouped_data.iloc[1, 2]\n",
    "std_neg = grouped_data.iloc[0, 2]\n",
    "z = 1 - (3*(std_pos+std_neg))/(mean_pos-mean_neg)\n",
    "print(z)"
   ]
  },
  {
   "cell_type": "code",
   "execution_count": 9,
   "id": "c6145287",
   "metadata": {},
   "outputs": [
    {
     "data": {
      "image/png": "[encoded data removed]",
      "text/plain": [
       "<Figure size 640x480 with 1 Axes>"
      ]
     },
     "metadata": {},
     "output_type": "display_data"
    },
    {
     "data": {
      "text/plain": [
       "<Figure size 640x480 with 0 Axes>"
      ]
     },
     "metadata": {},
     "output_type": "display_data"
    }
   ],
   "source": [
    "# Plot the mean values\n",
    "plt.bar(grouped_data['condition'], grouped_data['mean_OD'], yerr=grouped_data['std_OD'], capsize=5)\n",
    "plt.xlabel('conditions')\n",
    "plt.ylabel('Mean OD Value')\n",
    "plt.title('Mean OD Values with Standard Deviation')\n",
    "plt.xticks(rotation=90)  # Rotate x-axis labels for readability\n",
    "plt.show()\n",
    "plt.savefig('average_OD_by_condition.png')"
   ]
  },
  {
   "cell_type": "code",
   "execution_count": 10,
   "id": "15c7735d",
   "metadata": {},
   "outputs": [],
   "source": [
    "merged_data.to_csv('merged_data.csv', index=False)"
   ]
  }
 ],
 "metadata": {
  "kernelspec": {
   "display_name": "Python 3 (ipykernel)",
   "language": "python",
   "name": "python3"
  },
  "language_info": {
   "codemirror_mode": {
    "name": "ipython",
    "version": 3
   },
   "file_extension": ".py",
   "mimetype": "text/x-python",
   "name": "python",
   "nbconvert_exporter": "python",
   "pygments_lexer": "ipython3",
   "version": "3.11.5"
  }
 },
 "nbformat": 4,
 "nbformat_minor": 5
}
